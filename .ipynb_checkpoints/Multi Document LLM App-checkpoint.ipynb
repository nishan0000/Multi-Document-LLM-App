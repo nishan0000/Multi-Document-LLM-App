{
 "cells": [
  {
   "cell_type": "markdown",
   "id": "e67feac8",
   "metadata": {},
   "source": [
    "### LLM Configuring"
   ]
  },
  {
   "cell_type": "code",
   "execution_count": 1,
   "id": "cf3d7006",
   "metadata": {},
   "outputs": [],
   "source": [
    "import google.generativeai as genai\n",
    "from dotenv import load_dotenv\n",
    "import os\n",
    "\n",
    "from langchain_google_genai import GoogleGenerativeAI"
   ]
  },
  {
   "cell_type": "code",
   "execution_count": 2,
   "id": "606fa254",
   "metadata": {},
   "outputs": [],
   "source": [
    "def create_llm():\n",
    "    load_dotenv()\n",
    "    genai.configure(api_key = os.getenv('GOOGLE_API_KEY'))\n",
    "    llm = GoogleGenerativeAI(model='gemini-pro', temperature=True, convert_system_message_to_human=True)\n",
    "    \n",
    "    return llm"
   ]
  },
  {
   "cell_type": "code",
   "execution_count": 3,
   "id": "cbaf64d2",
   "metadata": {},
   "outputs": [],
   "source": [
    "llm = create_llm()"
   ]
  },
  {
   "cell_type": "markdown",
   "id": "bf6bc4fe",
   "metadata": {},
   "source": [
    "### Loaders"
   ]
  },
  {
   "cell_type": "code",
   "execution_count": 16,
   "id": "ef94cbe9",
   "metadata": {},
   "outputs": [],
   "source": [
    "from langchain.document_loaders import DirectoryLoader\n",
    "from langchain.document_loaders.pdf import PyPDFLoader\n",
    "from langchain.document_loaders.csv_loader import CSVLoader\n",
    "from langchain_community.document_loaders import TextLoader"
   ]
  },
  {
   "cell_type": "code",
   "execution_count": 17,
   "id": "c230bb2c",
   "metadata": {},
   "outputs": [],
   "source": [
    "# Define a function to create a DirectoryLoader for a specific file type\n",
    "def create_directory_loader(file_type, directory_path):\n",
    "    \n",
    "    # Define a dictionary to map file extensions to their respective loaders\n",
    "    loaders = {\n",
    "        '.pdf': PyPDFLoader,\n",
    "        '.txt': TextLoader,\n",
    "        '.csv': CSVLoader,\n",
    "    }\n",
    "    \n",
    "    directory_loader = DirectoryLoader(\n",
    "        path=directory_path,\n",
    "        glob=f\"**/*{file_type}\",\n",
    "        loader_cls=loaders[file_type],\n",
    "    )\n",
    "    \n",
    "    return directory_loader"
   ]
  },
  {
   "cell_type": "code",
   "execution_count": 18,
   "id": "358a52c6",
   "metadata": {},
   "outputs": [],
   "source": [
    "def load_all_documents(folder_path):\n",
    "    \n",
    "    # Create DirectoryLoader instances for each file type\n",
    "    pdf_loader = create_directory_loader('.pdf', folder_path)\n",
    "    txt_loader = create_directory_loader('.txt', folder_path)\n",
    "    csv_loader = create_directory_loader('.csv', folder_path)\n",
    "    \n",
    "    # Load the files\n",
    "    pdf_documents = pdf_loader.load()\n",
    "    txt_documents = txt_loader.load()\n",
    "    csv_documents = csv_loader.load()\n",
    "    \n",
    "    return pdf_documents, txt_documents, csv_documents\n"
   ]
  },
  {
   "cell_type": "code",
   "execution_count": 19,
   "id": "4e087038",
   "metadata": {},
   "outputs": [],
   "source": [
    "pdf_documents, txt_documents, csv_documents = load_all_documents('Files')"
   ]
  },
  {
   "cell_type": "markdown",
   "id": "e8c38127",
   "metadata": {},
   "source": [
    "### Splitters"
   ]
  },
  {
   "cell_type": "code",
   "execution_count": 20,
   "id": "f36375fd",
   "metadata": {},
   "outputs": [],
   "source": [
    "from langchain.text_splitter import RecursiveCharacterTextSplitter"
   ]
  },
  {
   "cell_type": "code",
   "execution_count": 21,
   "id": "51744888",
   "metadata": {},
   "outputs": [],
   "source": [
    "# Function to split all documents all together\n",
    "def split_documents(pdf_documents, txt_documents, csv_documents):\n",
    "    \n",
    "    # Recursive character text splitter\n",
    "    text_splitter = RecursiveCharacterTextSplitter(\n",
    "        chunk_size=300, \n",
    "        chunk_overlap=60, \n",
    "        length_function=len\n",
    "    )\n",
    "    \n",
    "    # Colelcting the splits for all documents combined\n",
    "    splits = text_splitter.split_documents(pdf_documents + txt_documents + csv_documents)\n",
    "    \n",
    "    return splits"
   ]
  },
  {
   "cell_type": "code",
   "execution_count": 22,
   "id": "d743c4e6",
   "metadata": {},
   "outputs": [],
   "source": [
    "splits = split_documents(pdf_documents, txt_documents, csv_documents)"
   ]
  },
  {
   "cell_type": "markdown",
   "id": "fd33ac48",
   "metadata": {},
   "source": [
    "### Embeddings"
   ]
  },
  {
   "cell_type": "code",
   "execution_count": 23,
   "id": "374bc76e",
   "metadata": {},
   "outputs": [],
   "source": [
    "from langchain_google_genai import GoogleGenerativeAIEmbeddings\n",
    "\n",
    "def create_embeddings():\n",
    "    embeddings = GoogleGenerativeAIEmbeddings(model='models/embedding-001')\n",
    "    return embeddings"
   ]
  },
  {
   "cell_type": "code",
   "execution_count": 24,
   "id": "667c2948",
   "metadata": {},
   "outputs": [],
   "source": [
    "embeddings = create_embeddings()"
   ]
  },
  {
   "cell_type": "markdown",
   "id": "7aa79668",
   "metadata": {},
   "source": [
    "### Vectorstore"
   ]
  },
  {
   "cell_type": "code",
   "execution_count": 25,
   "id": "52582ad3",
   "metadata": {},
   "outputs": [],
   "source": [
    "from langchain.vectorstores import Chroma"
   ]
  },
  {
   "cell_type": "code",
   "execution_count": 26,
   "id": "12b4afef",
   "metadata": {},
   "outputs": [],
   "source": [
    "def create_retriever(embeddings, splits):\n",
    "    # Creating vector database\n",
    "    db = Chroma.from_documents(documents=splits, embedding=embeddings)\n",
    "    \n",
    "    # Create retriever form db\n",
    "    retriever = db.as_retriever()\n",
    "    \n",
    "    return retriever"
   ]
  },
  {
   "cell_type": "code",
   "execution_count": 27,
   "id": "94c93510",
   "metadata": {},
   "outputs": [],
   "source": [
    "retriever = create_retriever(embeddings, splits)"
   ]
  },
  {
   "cell_type": "markdown",
   "id": "8f9e3ff0",
   "metadata": {},
   "source": [
    "### Question Answering with Memory"
   ]
  },
  {
   "cell_type": "code",
   "execution_count": 30,
   "id": "e8e10b29",
   "metadata": {},
   "outputs": [],
   "source": [
    "from langchain.chains import RetrievalQA\n",
    "from langchain.memory import ConversationBufferMemory"
   ]
  },
  {
   "cell_type": "code",
   "execution_count": 36,
   "id": "17d6b5ad",
   "metadata": {},
   "outputs": [],
   "source": [
    "qa = RetrievalQA.from_chain_type(memory=ConversationBufferMemory(), chain_type='stuff', llm=llm, retriever=retriever, verbose=True)"
   ]
  },
  {
   "cell_type": "code",
   "execution_count": 47,
   "id": "5e84d8dc",
   "metadata": {},
   "outputs": [
    {
     "name": "stdout",
     "output_type": "stream",
     "text": [
      "\n",
      "\n",
      "\u001b[1m> Entering new RetrievalQA chain...\u001b[0m\n",
      "\n",
      "\u001b[1m> Finished chain.\u001b[0m\n"
     ]
    },
    {
     "data": {
      "text/plain": [
       "'I cannot provide an answer to this question as the provided text does not contain any information about a csv file or the number of genders mentioned in it.'"
      ]
     },
     "execution_count": 47,
     "metadata": {},
     "output_type": "execute_result"
    }
   ],
   "source": [
    "qa.run('In the csv file, How many genders are there?')"
   ]
  },
  {
   "cell_type": "code",
   "execution_count": null,
   "id": "b8faf98e",
   "metadata": {},
   "outputs": [],
   "source": []
  }
 ],
 "metadata": {
  "kernelspec": {
   "display_name": "Python [conda env:langchain]",
   "language": "python",
   "name": "conda-env-langchain-py"
  },
  "language_info": {
   "codemirror_mode": {
    "name": "ipython",
    "version": 3
   },
   "file_extension": ".py",
   "mimetype": "text/x-python",
   "name": "python",
   "nbconvert_exporter": "python",
   "pygments_lexer": "ipython3",
   "version": "3.11.7"
  }
 },
 "nbformat": 4,
 "nbformat_minor": 5
}
