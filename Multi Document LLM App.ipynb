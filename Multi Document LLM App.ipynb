{
 "cells": [
  {
   "cell_type": "code",
   "execution_count": 1,
   "id": "ec719cd2",
   "metadata": {},
   "outputs": [],
   "source": [
    "import sys\n",
    "sys.path.append('PyFiles')"
   ]
  },
  {
   "cell_type": "code",
   "execution_count": 2,
   "id": "60ca5fa4",
   "metadata": {},
   "outputs": [],
   "source": [
    "import LLMConfigure\n",
    "import MultiDocumentLoader\n",
    "import DocumentSplitter\n",
    "import CreateEmbeddings\n",
    "import CreateRetriever\n",
    "import CreateQAChain"
   ]
  },
  {
   "cell_type": "code",
   "execution_count": 3,
   "id": "d0e34ca2",
   "metadata": {},
   "outputs": [],
   "source": [
    "def bot(data_folder_path, chain_type):\n",
    "    \n",
    "    llm = LLMConfigure.create_llm()\n",
    "\n",
    "    pdf_documents, txt_documents, csv_documents = MultiDocumentLoader.load_all_documents(data_folder_path)\n",
    "\n",
    "    splits = DocumentSplitter.split_documents(pdf_documents, txt_documents, csv_documents)\n",
    "\n",
    "    embeddings = CreateEmbeddings.create_embeddings()\n",
    "\n",
    "    retriever = CreateRetriever.create_retriever(embeddings, splits)\n",
    "\n",
    "    qa = CreateQAChain.qa_chain(llm, retriever, chain_type)\n",
    "    \n",
    "    return qa"
   ]
  },
  {
   "cell_type": "code",
   "execution_count": 4,
   "id": "a5639aa5",
   "metadata": {},
   "outputs": [],
   "source": [
    "app = bot('Data', 'stuff')"
   ]
  },
  {
   "cell_type": "code",
   "execution_count": null,
   "id": "88420fbb",
   "metadata": {},
   "outputs": [],
   "source": []
  }
 ],
 "metadata": {
  "kernelspec": {
   "display_name": "Python [conda env:langchain]",
   "language": "python",
   "name": "conda-env-langchain-py"
  },
  "language_info": {
   "codemirror_mode": {
    "name": "ipython",
    "version": 3
   },
   "file_extension": ".py",
   "mimetype": "text/x-python",
   "name": "python",
   "nbconvert_exporter": "python",
   "pygments_lexer": "ipython3",
   "version": "3.11.7"
  }
 },
 "nbformat": 4,
 "nbformat_minor": 5
}
