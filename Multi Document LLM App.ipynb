{
 "cells": [
  {
   "cell_type": "code",
   "execution_count": 1,
   "id": "ec719cd2",
   "metadata": {},
   "outputs": [],
   "source": [
    "import sys\n",
    "sys.path.append('PyFiles')"
   ]
  },
  {
   "cell_type": "code",
   "execution_count": 2,
   "id": "60ca5fa4",
   "metadata": {},
   "outputs": [],
   "source": [
    "import MultiDocLLM"
   ]
  },
  {
   "cell_type": "code",
   "execution_count": 3,
   "id": "a5639aa5",
   "metadata": {},
   "outputs": [],
   "source": [
    "app = MultiDocLLM.bot('Data', 'stuff')"
   ]
  },
  {
   "cell_type": "code",
   "execution_count": 7,
   "id": "88420fbb",
   "metadata": {},
   "outputs": [
    {
     "name": "stdout",
     "output_type": "stream",
     "text": [
      "\n",
      "\n",
      "\u001b[1m> Entering new RetrievalQA chain...\u001b[0m\n",
      "\n",
      "\u001b[1m> Finished chain.\u001b[0m\n"
     ]
    },
    {
     "data": {
      "text/plain": [
       "\"I don't know.\""
      ]
     },
     "execution_count": 7,
     "metadata": {},
     "output_type": "execute_result"
    }
   ],
   "source": [
    "app.run('what is conversation buffer memory?')"
   ]
  },
  {
   "cell_type": "code",
   "execution_count": null,
   "id": "489f2a69",
   "metadata": {},
   "outputs": [],
   "source": []
  }
 ],
 "metadata": {
  "kernelspec": {
   "display_name": "Python [conda env:langchain]",
   "language": "python",
   "name": "conda-env-langchain-py"
  },
  "language_info": {
   "codemirror_mode": {
    "name": "ipython",
    "version": 3
   },
   "file_extension": ".py",
   "mimetype": "text/x-python",
   "name": "python",
   "nbconvert_exporter": "python",
   "pygments_lexer": "ipython3",
   "version": "3.11.7"
  }
 },
 "nbformat": 4,
 "nbformat_minor": 5
}
